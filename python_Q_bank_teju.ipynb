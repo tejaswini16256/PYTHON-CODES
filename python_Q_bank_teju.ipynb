{
  "nbformat": 4,
  "nbformat_minor": 0,
  "metadata": {
    "colab": {
      "provenance": []
    },
    "kernelspec": {
      "name": "python3",
      "display_name": "Python 3"
    },
    "language_info": {
      "name": "python"
    }
  },
  "cells": [
    {
      "cell_type": "code",
      "execution_count": null,
      "metadata": {
        "id": "U61x1bCwZaWl"
      },
      "outputs": [],
      "source": [
        "#find missing number in array\n",
        "import array as arr\n",
        "def test(nums):\n",
        "    return sum(range(10, 21)) - sum(list(nums))\n",
        "\n",
        "array_num = arr.array('i', [10, 11, 12, 13, 14, 16, 17, 18, 19, 20])\n",
        "print(\"Original array:\")\n",
        "for i in range(len(array_num)):    \n",
        "    print(array_num[i], end=' ')\n",
        "print(\"\\nMissing number in the said array (10-20): \",test(array_num))\n",
        " \n",
        "array_num = arr.array('i', [10, 11, 12, 13, 14, 15, 16, 17, 18, 19])\n",
        "print(\"\\nOriginal array:\")\n",
        "for i in range(len(array_num)):    \n",
        "    print(array_num[i], end=' ')\n",
        "print(\"\\nMissing number in the said array (10-20): \",test(array_num))\n",
        "\n"
      ]
    },
    {
      "cell_type": "markdown",
      "source": [],
      "metadata": {
        "id": "y6wuLkeVle5m"
      }
    },
    {
      "cell_type": "markdown",
      "source": [
        "shell sort\n"
      ],
      "metadata": {
        "id": "EH4vancHlrO9"
      }
    },
    {
      "cell_type": "markdown",
      "source": [
        "Merge sort"
      ],
      "metadata": {
        "id": "0PjeZde1l2S_"
      }
    },
    {
      "cell_type": "markdown",
      "source": [
        "selection sort"
      ],
      "metadata": {
        "id": "v4lueSXkmAbF"
      }
    },
    {
      "cell_type": "markdown",
      "source": [
        "insertion sort"
      ],
      "metadata": {
        "id": "pDVkShojmLq1"
      }
    },
    {
      "cell_type": "markdown",
      "source": [
        "bubble sort"
      ],
      "metadata": {
        "id": "cOGANjYlmWVi"
      }
    },
    {
      "cell_type": "code",
      "source": [
        "def bubbleSort(arr):\n",
        "\tn = len(arr)\n",
        "\tswapped = False\n",
        "\t# Traverse through all array elements\n",
        "\tfor i in range(n-1):\n",
        "\t\t# range(n) also work but outer loop will\n",
        "\t\t# repeat one time more than needed.\n",
        "\t\t# Last i elements are already in place\n",
        "\t\tfor j in range(0, n-i-1):\n",
        "\n",
        "\t\t\t# traverse the array from 0 to n-i-1\n",
        "\t\t\t# Swap if the element found is greater\n",
        "\t\t\t# than the next element\n",
        "\t\t\tif arr[j] > arr[j + 1]:\n",
        "\t\t\t\tswapped = True\n",
        "\t\t\t\tarr[j], arr[j + 1] = arr[j + 1], arr[j]\n",
        "\t\t\n",
        "\t\tif not swapped:\n",
        "\t\t\t# if we haven't needed to make a single swap, we\n",
        "\t\t\t# can just exit the main loop.\n",
        "\t\t\treturn\n",
        "\n",
        "\n",
        "# Driver code to test above\n",
        "arr = [64, 34, 25, 12, 22, 11, 90]\n",
        "\n",
        "bubbleSort(arr)\n",
        "\n",
        "print(\"Sorted array is:\")\n",
        "for i in range(len(arr)):\n",
        "\tprint(\"% d\" % arr[i],"
      ],
      "metadata": {
        "id": "Hz2tAoIImVO-"
      },
      "execution_count": null,
      "outputs": []
    },
    {
      "cell_type": "code",
      "source": [
        "# Python program for implementation of Insertion Sort\n",
        "\n",
        "# Function to do insertion sort\n",
        "def insertionSort(arr):\n",
        "\n",
        "\t# Traverse through 1 to len(arr)\n",
        "\tfor i in range(1, len(arr)):\n",
        "\n",
        "\t\tkey = arr[i]\n",
        "\n",
        "\t\t# Move elements of arr[0..i-1], that are\n",
        "\t\t# greater than key, to one position ahead\n",
        "\t\t# of their current position\n",
        "\t\tj = i-1\n",
        "\t\twhile j >=0 and key < arr[j] :\n",
        "\t\t\t\tarr[j+1] = arr[j]\n",
        "\t\t\t\tj -= 1\n",
        "\t\tarr[j+1] = key\n",
        "\n",
        "\n",
        "#sorting the array [12, 11, 13, 5, 6] using insertionSort\n",
        "arr = [12, 11, 13, 5, 6]\n",
        "insertionSort(arr)\n",
        "print(arr)"
      ],
      "metadata": {
        "id": "ATqTnPc0mJVE"
      },
      "execution_count": null,
      "outputs": []
    },
    {
      "cell_type": "code",
      "source": [
        "def selectionSort(array, size):\n",
        "       \n",
        "    for step in range(size):\n",
        "        min_idx = step\n",
        "\n",
        "        for i in range(step + 1, size):\n",
        "         \n",
        "            # to sort in descending order, change > to < in this line\n",
        "            # select the minimum element in each loop\n",
        "            if array[i] < array[min_idx]:\n",
        "                min_idx = i\n",
        "         \n",
        "        # put min at the correct position\n",
        "        (array[step], array[min_idx]) = (array[min_idx], array[step])\n",
        "\n",
        "\n",
        "data = [-2, 45, 0, 11, -9]\n",
        "size = len(data)\n",
        "selectionSort(data, size)\n",
        "print('Sorted Array in Ascending Order:')\n",
        "print(data)"
      ],
      "metadata": {
        "id": "1PZZtfGnl_ab"
      },
      "execution_count": null,
      "outputs": []
    },
    {
      "cell_type": "code",
      "source": [
        "def unsortedarray (a, b, res, n, m):\n",
        "\n",
        "   a.sort()\n",
        "   b.sort()\n",
        "   # Merge two sorted arrays into res[]\n",
        "   i, j, k = 0, 0, 0\n",
        "   while (i < n and j < m):\n",
        "      if (a[i] <= b[j]):\n",
        "         res[k] = a[i]\n",
        "         i += 1\n",
        "         k += 1\n",
        "      else:\n",
        "         res[k] = b[j]\n",
        "         j += 1\n",
        "         k += 1\n",
        "   while (i < n):  # Merging remaining\n",
        "      # elements of a[] (if any)\n",
        "      res[k] = a[i]\n",
        "      i += 1\n",
        "      k += 1\n",
        "   while (j < m):  # Merging remaining\n",
        "      # elements of b[] (if any)\n",
        "      res[k] = b[j]\n",
        "      j += 1\n",
        "      k += 1\n",
        "# Driver code\n",
        "A=list()\n",
        "n=int(input(\"Enter the size of the First List ::\"))\n",
        "print(\"Enter the Element of First List ::\")\n",
        "for i in range(int(n)):\n",
        "   k=int(input(\"\"))\n",
        "   A.append(k)\n",
        "B=list()\n",
        "m=int(input(\"Enter the size of the Second List ::\"))\n",
        "print(\"Enter the Element of Second List ::\")\n",
        "for i in range(int(n)):\n",
        "   k=int(input(\"\"))\n",
        "   B.append(k)\n",
        "# Final merge list\n",
        "res = [0 for i in range(n + m)]\n",
        "unsortedarray(A, B, res, n, m)\n",
        "print (\"Sorted merged list :\")\n",
        "for i in range(n + m):\n",
        "   print (res[i],)"
      ],
      "metadata": {
        "id": "fOMDrk_-l0m2"
      },
      "execution_count": null,
      "outputs": []
    },
    {
      "cell_type": "code",
      "source": [
        "def shell_sort(inp, n):\n",
        "    \n",
        "    h = n // 2\n",
        "    while h > 0:\n",
        "        for i in range(h, n):\n",
        "            t = inp[i]\n",
        "            j = i\n",
        "            while j >= h and inp[j - h] > t:\n",
        "                inp[j] = inp[j - h]\n",
        "                j -= h\n",
        "\n",
        "            inp[j] = t\n",
        "        h = h // 2\n",
        "\n",
        "\n",
        "inp = [34, 12, 20, 7, 13, 15, 2, 23]\n",
        "n = len(inp)\n",
        "print('Array before Sorting:')\n",
        "print(inp)\n",
        "shell_sort(inp, n)\n",
        "print('Array after Sorting:')\n",
        "print(inp)"
      ],
      "metadata": {
        "id": "HH-Cal-mjlFm"
      },
      "execution_count": null,
      "outputs": []
    },
    {
      "cell_type": "markdown",
      "source": [
        "Quick sort"
      ],
      "metadata": {
        "id": "nTyWrNVElfgH"
      }
    },
    {
      "cell_type": "code",
      "source": [
        "def partition(array, low, high):\n",
        "\n",
        "\t# Choose the rightmost element as pivot\n",
        "\tpivot = array[high]\n",
        "\n",
        "\t# Pointer for greater element\n",
        "\ti = low - 1\n",
        "\n",
        "\t# Traverse through all elements\n",
        "\t# compare each element with pivot\n",
        "\tfor j in range(low, high):\n",
        "\t\tif array[j] <= pivot:\n",
        "\t\t\t# If element smaller than pivot is found\n",
        "\t\t\t# swap it with the greater element pointed by i\n",
        "\t\t\ti = i + 1\n",
        "\n",
        "\t\t\t# Swapping element at i with element at j\n",
        "\t\t\t(array[i], array[j]) = (array[j], array[i])\n",
        "\n",
        "\t# Swap the pivot element with\n",
        "\t# e greater element specified by i\n",
        "\t(array[i + 1], array[high]) = (array[high], array[i + 1])\n",
        "\n",
        "\t# Return the position from where partition is done\n",
        "\treturn i + 1\n",
        "\n",
        "# Function to perform quicksort\n",
        "\n",
        "\n",
        "def quick_sort(array, low, high):\n",
        "\tif low < high:\n",
        "\n",
        "\t\t# Find pivot element such that\n",
        "\t\t# element smaller than pivot are on the left\n",
        "\t\t# element greater than pivot are on the right\n",
        "\t\tpi = partition(array, low, high)\n",
        "\n",
        "\t\t# Recursive call on the left of pivot\n",
        "\t\tquick_sort(array, low, pi - 1)\n",
        "\n",
        "\t\t# Recursive call on the right of pivot\n",
        "\t\tquick_sort(array, pi + 1, high)\n",
        "\n",
        "\n",
        "# Driver code\n",
        "array = [10, 7, 8, 9, 1, 5]\n",
        "quick_sort(array, 0, len(array) - 1)\n",
        "\n",
        "print(f'Sorted array: {array}')\n",
        "\n"
      ],
      "metadata": {
        "id": "xjZwL6YllJ_P"
      },
      "execution_count": null,
      "outputs": []
    },
    {
      "cell_type": "code",
      "source": [
        "#remove all duplicate element from array\n",
        "#from array import *\n",
        "\n",
        "import array as arr\n",
        "def test(nums):\n",
        "    return sorted(set(nums),key=nums.index)\n",
        "\n",
        "array_num = arr.array('i', [1, 3, 5, 1, 3, 7, 9])\n",
        "print(\"Original array:\")\n",
        "for i in range(len(array_num)):    \n",
        "    print(array_num[i], end=' ')\n",
        "print(\"\\nAfter removing duplicate elements from the said array:\")\n",
        "result = arr.array('i', test(array_num))\n",
        "for i in range(len(result)):    \n",
        "    print(result[i], end=' ')\n",
        "array_num = arr.array('i', [2, 4, 2, 6, 4, 8])\n",
        "print(\"\\nOriginal array:\")\n",
        "for i in range(len(array_num)):    \n",
        "    print(array_num[i], end=' ')\n",
        "print(\"\\nAfter removing duplicate elements from the said array:\")\n",
        "result = arr.array('i', test(array_num))\n",
        "for i in range(len(result)):    \n",
        "    print(result[i], end=' ')\n"
      ],
      "metadata": {
        "id": "kBUcW2cRZ071"
      },
      "execution_count": null,
      "outputs": []
    },
    {
      "cell_type": "code",
      "source": [
        "#write a program to remove the first occurance of specified element from array\n",
        "from array import *\n",
        "arraynum=array('i',[1,2,342,33,2,4,8])\n",
        "print(\"original array:\"+str(arraynum))\n",
        "print(\"remove first occurance of 2 from the array:\")\n",
        "arraynum.remove(2)\n",
        "print(\"new array:\"+str(arraynum))\n"
      ],
      "metadata": {
        "id": "dw_9iHuqZ-YH"
      },
      "execution_count": null,
      "outputs": []
    },
    {
      "cell_type": "code",
      "source": [
        "#remove specified item using the index from an array\n",
        "from array import *\n",
        "arraynum=array('i',[3,5,3,55,12])\n",
        "print(\"original array:\"+str(arraynum))\n",
        "print(\"remove the thrid item from array:\")\n",
        "arraynum.pop(2)\n",
        "print(\"new array:\"+str(arraynum))\n"
      ],
      "metadata": {
        "id": "YMt6J4sbaCx3"
      },
      "execution_count": null,
      "outputs": []
    },
    {
      "cell_type": "code",
      "source": [
        "#remove specified item using the index from an array\n",
        "from array import *\n",
        "arraynum=array('i',[3,5,3,55,12])\n",
        "print(\"original array:\"+str(arraynum))\n",
        "print(\"remove the thrid item from array:\")\n",
        "arraynum.pop(2)\n",
        "print(\"new array:\"+str(arraynum))\n"
      ],
      "metadata": {
        "id": "P6pW52c1aGVe"
      },
      "execution_count": null,
      "outputs": []
    },
    {
      "cell_type": "code",
      "source": [
        "#program to append items from inerrable to end of the array\n",
        "from array import *\n",
        "arraynum=array('i',[2,3,4,64,3,2,44])\n",
        "print(\"origonal array:\"+str(arraynum))\n",
        "arraynum.extend(arraynum)\n",
        "print(\"extended array:\"+str(arraynum))\n"
      ],
      "metadata": {
        "id": "YBS45lh_aKD9"
      },
      "execution_count": null,
      "outputs": []
    },
    {
      "cell_type": "code",
      "source": [
        "#find occurance of the number of ele\n",
        "from array import *\n",
        "arraynum=array('i',[5,9,23,5,5,87,45])\n",
        "print(\"original array:\"+str(arraynum))\n",
        "print(\"number of occurance of the numbers 5 in side array:\"+str(arraynum.count(5)))\n"
      ],
      "metadata": {
        "id": "ix06DTVraKKV"
      },
      "execution_count": null,
      "outputs": []
    },
    {
      "cell_type": "code",
      "source": [
        "from array import *\n",
        "arraynum=array('i',[5,9,2,0,3])\n",
        "print(\"original array:\"+str(arraynum))\n",
        "arraynum.reverse()\n",
        "print(\"reverse array:\"+str(arraynum))\n",
        "\n"
      ],
      "metadata": {
        "id": "0JecE8NfaSKr"
      },
      "execution_count": null,
      "outputs": []
    },
    {
      "cell_type": "code",
      "source": [
        "# Python program to find\n",
        "# length of longest\n",
        "# increasing subsequence\n",
        "# in O(n Log n) time\n",
        "\n",
        "# Binary search (note\n",
        "# boundaries in the caller)\n",
        "# A[] is ceilIndex\n",
        "# in the caller\n",
        "def CeilIndex(A, l, r, key):\n",
        "\n",
        "    while (r - l > 1):\n",
        "    \n",
        "        m = l + (r - l)//2\n",
        "        if (A[m] >= key):\n",
        "            r = m\n",
        "        else:\n",
        "            l = m\n",
        "    return r\n",
        "\n",
        "def LongestIncreasingSubsequenceLength(A, size):\n",
        "\n",
        "    # Add boundary case,\n",
        "    # when array size is one\n",
        "\n",
        "    tailTable = [0 for i in range(size + 1)]\n",
        "    len = 0 # always points empty slot\n",
        "\n",
        "    tailTable[0] = A[0]\n",
        "    len = 1\n",
        "    for i in range(1, size):\n",
        "    \n",
        "        if (A[i] < tailTable[0]):\n",
        "\n",
        "            # new smallest value\n",
        "            tailTable[0] = A[i]\n",
        "\n",
        "        elif (A[i] > tailTable[len-1]):\n",
        "\n",
        "            # A[i] wants to extend\n",
        "            # largest subsequence\n",
        "            tailTable[len] = A[i]\n",
        "            len+= 1\n",
        "\n",
        "        else:\n",
        "            # A[i] wants to be current\n",
        "            # end candidate of an existing\n",
        "            # subsequence. It will replace\n",
        "            # ceil value in tailTable\n",
        "            tailTable[CeilIndex(tailTable, -1, len-1, A[i])] = A[i]\n",
        "        \n",
        "\n",
        "    return len\n",
        "\n",
        "# Driver program to\n",
        "# test above function\n",
        "\n",
        "A = [ 2, 5, 3, 7, 11, 8, 10, 13, 6 ]\n",
        "n = len(A)\n",
        "\n",
        "print(\"Length of Longest Increasing Subsequence is \",\n",
        "    LongestIncreasingSubsequenceLength(A, n))\n",
        "\n",
        "# This code is contributed\n",
        "# by Anant Agarwal.\n",
        "\n",
        "/\n"
      ],
      "metadata": {
        "id": "yH72WysBaY_A"
      },
      "execution_count": null,
      "outputs": []
    },
    {
      "cell_type": "code",
      "source": [
        "# 1. Program to find the square root of a number \n",
        "\n",
        "def countSquares(x):\n",
        "    sqrt = x**0.5\n",
        "    result = int(sqrt)\n",
        "    return result\n",
        "  \n",
        "  \n",
        "x=int(input(\"Enter the number : \"))\n",
        "print(countSquares(x))"
      ],
      "metadata": {
        "id": "gNW36PiwabL8"
      },
      "execution_count": null,
      "outputs": []
    },
    {
      "cell_type": "code",
      "source": [
        "# 2. Program to find the smallest divisor of a number\n",
        "\n",
        "num = int(input(\"Enter a number : \"))\n",
        "for i in range(2, num+1):\n",
        "    if num % i == 0:\n",
        "        print (\"The smallest divisor for {} is {}\".format(num, i))\n",
        "        break"
      ],
      "metadata": {
        "id": "bR9DA5OLa34N"
      },
      "execution_count": null,
      "outputs": []
    },
    {
      "cell_type": "code",
      "source": [
        "# 3. Program to find GCD of two numbers\n",
        "\n",
        "def hcf(a, b):\n",
        "    if(b == 0):\n",
        "        return a\n",
        "    else:\n",
        "        return hcf(b, a % b)\n",
        "  \n",
        "a = int(input(\"Enter a : \"))\n",
        "b = int(input(\"Enter b : \"))\n",
        "print(\"The gcd of a and b is : \", end=\"\")\n",
        "print(hcf(a, b))"
      ],
      "metadata": {
        "id": "pxd3PKDca9Tm"
      },
      "execution_count": null,
      "outputs": []
    },
    {
      "cell_type": "code",
      "source": [
        "# 4. Program to generate prime numbers\n",
        "\n",
        "lower = int(input(\"Enter the lower value:\"))\n",
        "upper = int(input(\"Enter the upper value:\"))\n",
        "for number in range(lower,upper+1):\n",
        "    if number>1:\n",
        "        for i in range(2,number):\n",
        "            if (number%i)==0:\n",
        "                break\n",
        "        else:\n",
        "            print(number)"
      ],
      "metadata": {
        "id": "y83jwtMLbAQm"
      },
      "execution_count": null,
      "outputs": []
    },
    {
      "cell_type": "code",
      "source": [
        "# 5. Program to compute the prime factors of an integer\n",
        "\n",
        "numb =int(input(\"Enter the number : \"))\n",
        "print(\"The prime factors of the given number are : \")\n",
        "value = 1\n",
        "while(value <= numb):\n",
        "    k = 0\n",
        "    if(numb % value == 0):\n",
        "        j = 1\n",
        "        while(j <= value):\n",
        "            if(value % j == 0):\n",
        "                k = k+1\n",
        "            j = j+1\n",
        "        if(k == 2):\n",
        "            print(value)\n",
        "    value = value+1"
      ],
      "metadata": {
        "id": "MwhqsTKzbDPa"
      },
      "execution_count": null,
      "outputs": []
    },
    {
      "cell_type": "code",
      "source": [
        "# 6. Program to genereate pseudo random number \n",
        "\n",
        "import random\n",
        "num = random.random()\n",
        "print(num)"
      ],
      "metadata": {
        "id": "D3Indn0NbGOw"
      },
      "execution_count": null,
      "outputs": []
    },
    {
      "cell_type": "code",
      "source": [
        "# 7. Program for raising a number to the power of a number\n",
        "\n",
        "power = 2\n",
        "num1 = 3**power\n",
        "num2 = 4**power\n",
        "print('expontial of num1 :',num1)\n",
        "print('expontial of num2 :', num2)\n",
        " \n",
        "floatnum1 = 3**2.5\n",
        "floatnum2 = 4**3.5\n",
        " \n",
        "print('\\n Exponentiation operator with float exponent')\n",
        "print('expontial of floatnum1 :',floatnum1 )\n",
        "print('expontial of floatnum2 :', floatnum2 )"
      ],
      "metadata": {
        "id": "doYiHOxWbKjw"
      },
      "execution_count": null,
      "outputs": []
    },
    {
      "cell_type": "code",
      "source": [
        "# 8. Program to find the nth term of fibonacci series\n",
        "\n",
        "nterms = int(input(\"Enter a number: \"))\n",
        " \n",
        "n1 = 0\n",
        "n2 = 1\n",
        " \n",
        "print(\"\\n The fibonacci sequence is :\")\n",
        "print(n1, \",\", n2, end=\", \")\n",
        " \n",
        "for i in range(2, nterms):\n",
        "  next = n1 + n2\n",
        "  print(next, end=\", \")\n",
        " \n",
        "  n1 = n2\n",
        "  n2 = next"
      ],
      "metadata": {
        "id": "wDqC4QFJbNoh"
      },
      "execution_count": null,
      "outputs": []
    },
    {
      "cell_type": "code",
      "source": [
        "#find_max_subarray\n",
        "def find_max_subarray(alist, start, end):\n",
        "    \"\"\"Returns (l, r, m) such that alist[l:r] is the maximum subarray in\n",
        "    A[start:end] with sum m. Here A[start:end] means all A[x] for start <= x <\n",
        "    end.\"\"\"\n",
        "    max_ending_at_i = max_seen_so_far = alist[start]\n",
        "    max_left_at_i = max_left_so_far = start\n",
        "    # max_right_at_i is always i + 1\n",
        "    max_right_so_far = start + 1\n",
        "    for i in range(start + 1, end):\n",
        "        if max_ending_at_i > 0:\n",
        "            max_ending_at_i += alist[i]\n",
        "        else:\n",
        "            max_ending_at_i = alist[i]\n",
        "            max_left_at_i = i\n",
        "        if max_ending_at_i > max_seen_so_far:\n",
        "            max_seen_so_far = max_ending_at_i\n",
        "            max_left_so_far = max_left_at_i\n",
        "            max_right_so_far = i + 1\n",
        "    return max_left_so_far, max_right_so_far, max_seen_so_far\n",
        " \n",
        " \n",
        "alist = input('Enter the list of numbers: ')\n",
        "alist = alist.split()\n",
        "alist = [int(x) for x in alist]\n",
        "start, end, maximum = find_max_subarray(alist, 0, len(alist))\n",
        "print('The maximum subarray starts at index {}, ends at index {}'\n",
        "      ' and has sum {}.'.format(start, end - 1, maximum))"
      ],
      "metadata": {
        "id": "PbQp-1XNbV_p"
      },
      "execution_count": null,
      "outputs": []
    },
    {
      "cell_type": "code",
      "source": [
        "#Python program to select the ith smallest element from a list in expected linear time\n",
        "def select(alist, start, end, i):\n",
        "    \"\"\"Find ith smallest element in alist[start... end-1].\"\"\"\n",
        "    if end - start <= 1:\n",
        "        return alist[start]\n",
        "    pivot = partition(alist, start, end)\n",
        " \n",
        "    # number of elements in alist[start... pivot]\n",
        "    k = pivot - start + 1\n",
        " \n",
        "    if i < k:\n",
        "        return select(alist, start, pivot, i)\n",
        "    elif i > k:\n",
        "        return select(alist, pivot + 1, end, i - k)\n",
        " \n",
        "    return alist[pivot]\n",
        " \n",
        "def partition(alist, start, end):\n",
        "    pivot = alist[start]\n",
        "    i = start + 1\n",
        "    j = end - 1\n",
        " \n",
        "    while True:\n",
        "        while (i <= j and alist[i] <= pivot):\n",
        "            i = i + 1\n",
        "        while (i <= j and alist[j] >= pivot):\n",
        "            j = j - 1\n",
        " \n",
        "        if i <= j:\n",
        "            alist[i], alist[j] = alist[j], alist[i]\n",
        "        else:\n",
        "            alist[start], alist[j] = alist[j], alist[start]\n",
        "            return j\n",
        " \n",
        " \n",
        "alist = input('Enter the list of numbers: ')\n",
        "alist = alist.split()\n",
        "alist = [int(x) for x in alist]\n",
        "i = int(input('The ith smallest element will be found. Enter i: '))\n",
        " \n",
        "ith_smallest_item = select(alist, 0, len(alist), i)\n",
        "print('Result: {}.'.format(ith_smallest_item))\n"
      ],
      "metadata": {
        "id": "bO6GMRnobaYr"
      },
      "execution_count": null,
      "outputs": []
    },
    {
      "cell_type": "code",
      "source": [
        "#binary search\n",
        "def binary_search(alist, start, end, key):\n",
        "    \"\"\"Search key in alist[start... end - 1].\"\"\"\n",
        "    if not start < end:\n",
        "        return -1\n",
        " \n",
        "    mid = (start + end)//2\n",
        "    if alist[mid] < key:\n",
        "        return binary_search(alist, mid + 1, end, key)\n",
        "    elif alist[mid] > key:\n",
        "        return binary_search(alist, start, mid, key)\n",
        "    else:\n",
        "        return mid\n",
        " \n",
        " \n",
        "alist = input('Enter the sorted list of numbers: ')\n",
        "alist = alist.split()\n",
        "alist = [int(x) for x in alist]\n",
        "key = int(input('The number to search for: '))\n",
        " \n",
        "index = binary_search(alist, 0, len(alist), key)\n",
        "if index < 0:\n",
        "    print('{} was not found.'.format(key))\n",
        "else:\n",
        "    print('{} was found at index {}.'.format(key, index))"
      ],
      "metadata": {
        "id": "fQ7qt4rAbfGz"
      },
      "execution_count": null,
      "outputs": []
    },
    {
      "cell_type": "code",
      "source": [
        "#binary search\n",
        "def binary_search(alist, start, end, key):\n",
        "    \"\"\"Search key in alist[start... end - 1].\"\"\"\n",
        "    if not start < end:\n",
        "        return -1\n",
        " \n",
        "    mid = (start + end)//2\n",
        "    if alist[mid] < key:\n",
        "        return binary_search(alist, mid + 1, end, key)\n",
        "    elif alist[mid] > key:\n",
        "        return binary_search(alist, start, mid, key)\n",
        "    else:\n",
        "        return mid\n",
        " \n",
        " \n",
        "alist = input('Enter the sorted list of numbers: ')\n",
        "alist = alist.split()\n",
        "alist = [int(x) for x in alist]\n",
        "key = int(input('The number to search for: '))\n",
        " \n",
        "index = binary_search(alist, 0, len(alist), key)\n",
        "if index < 0:\n",
        "    print('{} was not found.'.format(key))\n",
        "else:\n",
        "    print('{} was found at index {}.'.format(key, index))"
      ],
      "metadata": {
        "id": "M8c09AAKbi1F"
      },
      "execution_count": null,
      "outputs": []
    },
    {
      "cell_type": "code",
      "source": [
        "#binary search\n",
        "def binary_search(alist, start, end, key):\n",
        "    \"\"\"Search key in alist[start... end - 1].\"\"\"\n",
        "    if not start < end:\n",
        "        return -1\n",
        " \n",
        "    mid = (start + end)//2\n",
        "    if alist[mid] < key:\n",
        "        return binary_search(alist, mid + 1, end, key)\n",
        "    elif alist[mid] > key:\n",
        "        return binary_search(alist, start, mid, key)\n",
        "    else:\n",
        "        return mid\n",
        " \n",
        " \n",
        "alist = input('Enter the sorted list of numbers: ')\n",
        "alist = alist.split()\n",
        "alist = [int(x) for x in alist]\n",
        "key = int(input('The number to search for: '))\n",
        " \n",
        "index = binary_search(alist, 0, len(alist), key)\n",
        "if index < 0:\n",
        "    print('{} was not found.'.format(key))\n",
        "else:\n",
        "    print('{} was found at index {}.'.format(key, index))"
      ],
      "metadata": {
        "id": "gYb195WZboW0"
      },
      "execution_count": null,
      "outputs": []
    },
    {
      "cell_type": "code",
      "source": [
        "#dequeue implimentation\n",
        "import collections\n",
        "\n",
        "DoubleEnded = collections.deque([\"Mon\",\"Tue\",\"Wed\"])\n",
        "DoubleEnded.append(\"Thu\")\n",
        "\n",
        "print (\"Appended at right - \")\n",
        "print (DoubleEnded)\n",
        "\n",
        "DoubleEnded.appendleft(\"Sun\")\n",
        "print (\"Appended at right at left is - \")\n",
        "print (DoubleEnded)\n",
        "\n",
        "DoubleEnded.pop()\n",
        "print (\"Deleting from right - \")\n",
        "print (DoubleEnded)\n",
        "\n",
        "DoubleEnded.popleft()\n",
        "print (\"Deleting from left - \")\n",
        "print (DoubleEnded)"
      ],
      "metadata": {
        "id": "9SOmVvZRb1Cx"
      },
      "execution_count": null,
      "outputs": []
    },
    {
      "cell_type": "code",
      "source": [
        "# demonstrate queue implementation\n",
        "# using list\n",
        "  \n",
        "# Initializing a queue\n",
        "queue = []\n",
        "  \n",
        "# Adding elements to the queue\n",
        "queue.append('a')\n",
        "queue.append('b')\n",
        "queue.append('c')\n",
        "  \n",
        "print(\"Initial queue\")\n",
        "print(queue)\n",
        "  \n",
        "# Removing elements from the queue\n",
        "print(\"\\nElements dequeued from queue\")\n",
        "print(queue.pop(0))\n",
        "print(queue.pop(0))\n",
        "print(queue.pop(0))\n",
        "  \n",
        "print(\"\\nQueue after removing elements\")\n",
        "print(queue)"
      ],
      "metadata": {
        "id": "viMuwb2bb_9c"
      },
      "execution_count": null,
      "outputs": []
    },
    {
      "cell_type": "code",
      "source": [
        "# Implement two stacks in a list \n",
        "class twoStacks: \n",
        "      \n",
        "    def __init__(self, n):     #constructor \n",
        "        self.size = n \n",
        "        self.arr = [None] * n \n",
        "        self.top1 = -1\n",
        "        self.top2 = self.size \n",
        "          \n",
        "    # Method to push an element x to stack1 \n",
        "    def push1(self, x): \n",
        "          \n",
        "        # There is at least one empty space for new element \n",
        "        if self.top1 < self.top2 - 1 : \n",
        "            self.top1 = self.top1 + 1\n",
        "            self.arr[self.top1] = x \n",
        "  \n",
        "        else: \n",
        "            print(\"Stack Overflow \") \n",
        "            exit(1) \n",
        "  \n",
        "    # Method to push an element x to stack2 \n",
        "    def push2(self, x): \n",
        "  \n",
        "        # There is at least one empty space for new element \n",
        "        if self.top1 < self.top2 - 1: \n",
        "            self.top2 = self.top2 - 1\n",
        "            self.arr[self.top2] = x \n",
        "  \n",
        "        else : \n",
        "           print(\"Stack Overflow \") \n",
        "           exit(1) \n",
        "  \n",
        "    # Method to pop an element from first stack \n",
        "    def pop1(self): \n",
        "        if self.top1 >= 0: \n",
        "            x = self.arr[self.top1] \n",
        "            self.top1 = self.top1 -1\n",
        "            return x \n",
        "        else: \n",
        "            print(\"Stack Underflow \") \n",
        "            exit(1) \n",
        "  \n",
        "    # Method to pop an element from second stack \n",
        "    def pop2(self): \n",
        "        if self.top2 < self.size: \n",
        "            x = self.arr[self.top2] \n",
        "            self.top2 = self.top2 + 1\n",
        "            return x \n",
        "        else: \n",
        "            print(\"Stack Underflow \") \n",
        "            exit() \n",
        "  \n",
        "# Driver program to test twoStacks class \n",
        "ts = twoStacks(5) \n",
        "ts.push1(5) \n",
        "ts.push2(10) \n",
        "ts.push2(15) \n",
        "ts.push1(11) \n",
        "ts.push2(7) \n",
        "  \n",
        "print(\"Popped element from stack1 is \" + str(ts.pop1())) \n",
        "ts.push2(40) \n",
        "print(\"Popped element from stack2 is \" + str(ts.pop2())) "
      ],
      "metadata": {
        "id": "K7Fh2WuUcA_C"
      },
      "execution_count": null,
      "outputs": []
    },
    {
      "cell_type": "code",
      "source": [
        "#y=(a+b)*(c+d)/((x*y)/(w+z) check wether it is balenced or not\n",
        "open_list=[\"[\",\"{\",\"(\"]\n",
        "close_list=[\"]\",\"}\",\")\"]\n",
        "#fn to check parentheses\n",
        "def check(myStr):\n",
        "  stack=[]\n",
        "  for i in myStr:\n",
        "    if i in open_list:\n",
        "      stack.append(i)\n",
        "    elif i in close_list:\n",
        "      pos=close_list.index(i)\n",
        "      if((len(stack)>0) and(open_list[pos]==stack[len(stack)-1])):\n",
        "        stack.pop()\n",
        "      else:\n",
        "        return \"unbalanced\"\n",
        "  if len(stack)==0:\n",
        "    return \"balanced\"\n",
        "  else:\n",
        "    return \"Unbalanced\"\n",
        "\n",
        "#driver code\n",
        "string=\"(a+b)*(c+d)/((x*y)/(w+z)\"\n",
        "print(string,\"-\",check(string))"
      ],
      "metadata": {
        "id": "_KJp9V3wcIvC"
      },
      "execution_count": null,
      "outputs": []
    },
    {
      "cell_type": "code",
      "source": [
        "#implement the main program that would supply and receive data from the push and pop procedure\n",
        "stack=[]\n",
        "stack.append(\"python\")\n",
        "stack.append(5)\n",
        "stack.append('v')\n",
        "print(\"initial stack\")\n",
        "print(stack)\n",
        "print(\"element poped from stack\")\n",
        "print(stack.pop())\n",
        "print(stack.pop())\n",
        "print(stack.pop())\n",
        "print(\"stack after element are popped:\")\n",
        "print(stack)"
      ],
      "metadata": {
        "id": "OvALgmJRcLMC"
      },
      "execution_count": null,
      "outputs": []
    },
    {
      "cell_type": "markdown",
      "source": [
        "Question No 1 :-\n",
        "Design an algorithm that reads the list of numbers and finds the count of non negative numbers in it ."
      ],
      "metadata": {
        "id": "CqN967qOcXAQ"
      }
    },
    {
      "cell_type": "code",
      "source": [
        "l=[]\n",
        "print(\"enter the length of list of numbers :\")\n",
        "n=int(input())\n",
        "count=0\n",
        "for i in range(n):\n",
        "    k=int(input())\n",
        "    l.append(k)\n",
        "    if(l[i]<0):\n",
        "        count+=1\n",
        "print(\"the number of negative numbers int list are :\",count)"
      ],
      "metadata": {
        "id": "sVJ5Y_YfcTxw"
      },
      "execution_count": null,
      "outputs": []
    },
    {
      "cell_type": "markdown",
      "source": [
        "Question No 2:-\n",
        "Design an algorithm to swap the values of the 3 variables a,b,c. "
      ],
      "metadata": {
        "id": "4HjPS3D5cd7l"
      }
    },
    {
      "cell_type": "code",
      "source": [
        "a=int(input(\"enter the first number :\"))\n",
        "b=int (input(\"enter the second number :\"))\n",
        "c=int(input(\"enter the third number :\"))\n",
        "a,b,c=c,a,b\n",
        "print(\"the values of a,b,c respectively are :\",a,b,c)"
      ],
      "metadata": {
        "id": "G5P3mqwKcb73"
      },
      "execution_count": null,
      "outputs": []
    },
    {
      "cell_type": "markdown",
      "source": [
        "a=int(input(\"enter the first number :\"))\n",
        "b=int (input(\"enter the second number :\"))\n",
        "c=int(input(\"enter the third number :\"))\n",
        "a,b,c=c,a,b\n",
        "print(\"the values of a,b,c respectively are :\",a,b,c)"
      ],
      "metadata": {
        "id": "iyZ7gotlcmhq"
      }
    },
    {
      "cell_type": "code",
      "source": [
        "n=int ( input(\"enter the number :\"))\n",
        "print(\"enter the marks of \",n,\" students:\")\n",
        "for i in range(1,n+1):\n",
        "    k=int(input())\n",
        "    if(k<35):\n",
        "        n-=1\n",
        "print(\"the number of students passed is :\",n)"
      ],
      "metadata": {
        "id": "sih8jFEuciKe"
      },
      "execution_count": null,
      "outputs": []
    },
    {
      "cell_type": "markdown",
      "source": [
        "Question no:-4\n",
        "find the average of n numbers.\n",
        "\n",
        "```\n",
        "# This is formatted as code\n",
        "```\n",
        "\n"
      ],
      "metadata": {
        "id": "HeVP-pEhc0Jl"
      }
    },
    {
      "cell_type": "code",
      "source": [
        "n=int(input(\"enter the value of n:\"))\n",
        "sum=0\n",
        "for i in range(n):\n",
        "    k=int(input(\"enter the number :\"))\n",
        "    sum+=k\n",
        "print(\"average of the numbers is :\" , sum/n)"
      ],
      "metadata": {
        "id": "-XgGku8ecuvB"
      },
      "execution_count": null,
      "outputs": []
    },
    {
      "cell_type": "markdown",
      "source": [
        "Question no:-5\n",
        "Design an algorithm to compute sum of square of n natural numbers."
      ],
      "metadata": {
        "id": "VLSi_3RYc7Kz"
      }
    },
    {
      "cell_type": "code",
      "source": [
        "n=int(input(\"enter the value of n:\"))\n",
        "sum=0\n",
        "for i in range (1,n+1):\n",
        "    sum+=i**2\n",
        "print(\"Sum of suares of \",n,\"natural numbers is :\",sum)"
      ],
      "metadata": {
        "id": "pc11w_fnc4M1"
      },
      "execution_count": null,
      "outputs": []
    },
    {
      "cell_type": "markdown",
      "source": [
        "Question no:- 6\n",
        "Find the harmonic mean of n values of a data "
      ],
      "metadata": {
        "id": "EcgShBgQdAf9"
      }
    },
    {
      "cell_type": "code",
      "source": [
        "n=int(input(\"enter a number to find the harmonic mean:\"))\n",
        "sum=0.0\n",
        "print(\"enter the numbers :\")\n",
        "for i in range (n):\n",
        "    k=int(input())\n",
        "    sum+=(1/k)\n",
        "print(\"harmonic mean = \",n/sum)"
      ],
      "metadata": {
        "id": "thPfJVq2c-Uy"
      },
      "execution_count": null,
      "outputs": []
    },
    {
      "cell_type": "markdown",
      "source": [
        "Question no 8:- Devlop an algorithm which finds the n terms of a sequence : 1 , -3 ,5 ,-7 , 9 ........"
      ],
      "metadata": {
        "id": "RKXBb5GidI5N"
      }
    },
    {
      "cell_type": "code",
      "source": [
        "n=int(input(\"enter the number:\"))\n",
        "print(\"the series is :\")\n",
        "sum=0\n",
        "for i in range(n):\n",
        "    k=int(((-1)**(i))*(2*i+1))\n",
        "    print(k,end=' ')\n",
        "    sum+=k\n",
        "print(\"\\nsum of the sequence is :\",sum)"
      ],
      "metadata": {
        "id": "jIclFwjMdIPi"
      },
      "execution_count": null,
      "outputs": []
    },
    {
      "cell_type": "markdown",
      "source": [
        "Question 9:-\n",
        "Find : s=1+2+3+4....."
      ],
      "metadata": {
        "id": "-hPTTkngdapO"
      }
    },
    {
      "cell_type": "code",
      "source": [
        "n=int(input(\"enter the number:\"))\n",
        "sum=0\n",
        "for i in range(1,n+1):\n",
        "    sum+=i\n",
        "print(\"sum of the sequence is :\",sum)"
      ],
      "metadata": {
        "id": "Sj-QklSYdYJZ"
      },
      "execution_count": null,
      "outputs": []
    },
    {
      "cell_type": "markdown",
      "source": [
        "Question No:-10\n",
        "Find : s=2+4+8+12......"
      ],
      "metadata": {
        "id": "xaEKA2zMdhEu"
      }
    },
    {
      "cell_type": "code",
      "source": [
        "n=int(input(\"enter the number:\"))\n",
        "sum=0\n",
        "for i in range(2,2*n+1,2):\n",
        "    sum+=i\n",
        "print(\"sum of the sequence is :\",sum)"
      ],
      "metadata": {
        "id": "HrlIbMpVdgZ1"
      },
      "execution_count": null,
      "outputs": []
    },
    {
      "cell_type": "markdown",
      "source": [
        "Question No:-11\n",
        "Find : s=1+3+5+7......"
      ],
      "metadata": {
        "id": "Y-yjnQ0rdnQE"
      }
    },
    {
      "cell_type": "code",
      "source": [
        "n=int(input(\"enter the number:\"))\n",
        "sum=0\n",
        "for i in range(1,2*n,2):\n",
        "    sum+=i\n",
        "print(\"sum of the sequence is :\",sum)"
      ],
      "metadata": {
        "id": "F_HrP6VHdlRi"
      },
      "execution_count": null,
      "outputs": []
    },
    {
      "cell_type": "markdown",
      "source": [
        "Question 12:-\n",
        "Find factorial of a number."
      ],
      "metadata": {
        "id": "2uoxyKdHdrRD"
      }
    },
    {
      "cell_type": "code",
      "source": [
        "def fact(n):\n",
        "    if(n==0):\n",
        "        return 1\n",
        "    return n*fact(n-1)\n",
        "n=int(input(\"enter the number:\"))\n",
        "f=fact(n)\n",
        "print(\"factorial of \",n,\"is :\",f)"
      ],
      "metadata": {
        "id": "aoYU9YP9dqwp"
      },
      "execution_count": null,
      "outputs": []
    },
    {
      "cell_type": "markdown",
      "source": [
        "Question 13:-\n",
        "for a given n find 1/n!"
      ],
      "metadata": {
        "id": "Yp9ngxxZdwYN"
      }
    },
    {
      "cell_type": "code",
      "source": [
        "def fact(n):\n",
        "    if(n==0):\n",
        "        return 1\n",
        "    return n*fact(n-1)\n",
        "n=int(input(\"enter the number:\"))\n",
        "f=fact(n)\n",
        "print(\"1/n! of \",n,\"is :\",1/f)"
      ],
      "metadata": {
        "id": "i2h8nTNqdvk5"
      },
      "execution_count": null,
      "outputs": []
    },
    {
      "cell_type": "markdown",
      "source": [
        "Question 17:-\n",
        "Implement an algorithm which reads two concicative fibonacii numbers and outputs the next number in the series."
      ],
      "metadata": {
        "id": "EX4xxIIqd2pe"
      }
    },
    {
      "cell_type": "code",
      "source": [
        "a=int(input(\"enter the first number :\"))\n",
        "b=int(input(\"enter the second number :\"))\n",
        "print(\"the third number is  :\",a+b)"
      ],
      "metadata": {
        "id": "M-JB0w5Sd2EQ"
      },
      "execution_count": null,
      "outputs": []
    },
    {
      "cell_type": "markdown",
      "source": [
        "Question 18:-\n",
        "Design an algorithm to print luca's sequence: 1  3  4   7 ...."
      ],
      "metadata": {
        "id": "mINDAKkdd7Hz"
      }
    },
    {
      "cell_type": "code",
      "source": [
        "n=int(input(\"enter the number :\"))\n",
        "a=1\n",
        "b=3\n",
        "if (n==1):\n",
        "    print(a)\n",
        "else:\n",
        "    print(a,b,end=' ')\n",
        "    a=a+b\n",
        "    for i in range(2,n):\n",
        "        print(a,end=' ')\n",
        "        a=a+b\n",
        "        b=a"
      ],
      "metadata": {
        "id": "DachRVZmd6lc"
      },
      "execution_count": null,
      "outputs": []
    },
    {
      "cell_type": "markdown",
      "source": [
        "Question 19:- Print fibonacci sequence"
      ],
      "metadata": {
        "id": "hlBke_ISeAVw"
      }
    },
    {
      "cell_type": "code",
      "source": [
        "n=int(input(\"enter the first number :\"))\n",
        "a=1\n",
        "b=1\n",
        "if (n==1):\n",
        "    print(a)\n",
        "else:\n",
        "    print(a,b,end=' ')\n",
        "    a=a+b\n",
        "    for i in range(2,n):\n",
        "        print(a,end=' ')\n",
        "        a=a+b\n",
        "        b=a\n"
      ],
      "metadata": {
        "id": "ANSDo-IGd_v6"
      },
      "execution_count": null,
      "outputs": []
    },
    {
      "cell_type": "markdown",
      "source": [
        "Question 20 :-\n",
        "print the sequence in which each term is the sum of preceding 3 terms the first thee terms are given as 0 , 1 , 1"
      ],
      "metadata": {
        "id": "H_3e2WVHeE96"
      }
    },
    {
      "cell_type": "code",
      "source": [
        "n=int(input(\"enter the first number :\"))\n",
        "a=0\n",
        "b=1\n",
        "c=1\n",
        "if(n==1):\n",
        "    print(0)\n",
        "elif(n==2):\n",
        "    print(0,1)\n",
        "elif(n==3):\n",
        "    print(0,1,1)\n",
        "else:\n",
        "    print(0,1,1,end=' ')\n",
        "    for i in range(3,n):\n",
        "        t=c\n",
        "        c=a+b+c\n",
        "        print(c,end=' ')\n",
        "        a=b\n",
        "        b=t"
      ],
      "metadata": {
        "id": "1lHddqOPeERf"
      },
      "execution_count": null,
      "outputs": []
    },
    {
      "cell_type": "markdown",
      "source": [
        "Question : 21\n",
        "write a program to stimulate multiplication using addition."
      ],
      "metadata": {
        "id": "XE-Ff7-xeJeM"
      }
    },
    {
      "cell_type": "code",
      "source": [
        "a=int(input(\"enter the first number:\"))\n",
        "b=int(input(\"enter the second number:\"))\n",
        "ans=0\n",
        "for i in range(b):\n",
        "    ans+=a\n",
        "print(a,\"x\",b,\" = \",ans)"
      ],
      "metadata": {
        "id": "iVqOa33TeJBI"
      },
      "execution_count": null,
      "outputs": []
    },
    {
      "cell_type": "markdown",
      "source": [
        "Question 22:-\n",
        "design an algorithm which converts a binary number to a octal number. "
      ],
      "metadata": {
        "id": "SLUDxjbmeNzi"
      }
    },
    {
      "cell_type": "code",
      "source": [
        "s=input(\"enter the binart number :\")\n",
        "l=len(s)\n",
        "numd=0\n",
        "num=\"\"\n",
        "k=0\n",
        "for i in range(l-1,-1,-1):\n",
        "    if(s[i]=='1'):\n",
        "        numd+=2**k\n",
        "    k+=1\n",
        "while(numd>8):\n",
        "    num=num+str(numd%8)\n",
        "    numd=numd//8\n",
        "num=num+str(numd)\n",
        "num=num[::-1]\n",
        "print(\"octal equivalent = \",num)"
      ],
      "metadata": {
        "id": "jYFt3IyJeL-S"
      },
      "execution_count": null,
      "outputs": []
    },
    {
      "cell_type": "markdown",
      "source": [
        "Question 23:-\n",
        "find GCD of two numbers."
      ],
      "metadata": {
        "id": "jA8dtAwreSjf"
      }
    },
    {
      "cell_type": "code",
      "source": [
        "def Gcd(a,b):\n",
        "    sum=a+b\n",
        "    g=1\n",
        "    if(a==1 or b==1):\n",
        "        return 1\n",
        "    if(a==0 or b==0):\n",
        "        return sum \n",
        "    if(a>b):\n",
        "        g=Gcd(a%b,b)\n",
        "    else:\n",
        "        g=Gcd(a,b%a)\n",
        "    return g\n",
        "a=int(input(\"enter the first number:\"))\n",
        "b=int(input(\"enter the second number:\"))\n",
        "print(\"GCD of\",a,\"and \",b , \"is\",Gcd(a,b))"
      ],
      "metadata": {
        "id": "TkfWLJLWeR_3"
      },
      "execution_count": null,
      "outputs": []
    },
    {
      "cell_type": "markdown",
      "source": [
        "Question 25:-\n",
        "Merge two array into a sorted array"
      ],
      "metadata": {
        "id": "nPfa9ZRseZ9f"
      }
    },
    {
      "cell_type": "code",
      "source": [
        "a=int(input(\"entert the length of the first array :\"))\n",
        "b=int(input(\"entert the length of the second array :\"))\n",
        "l1=[]\n",
        "l2=[]\n",
        "l3=[]\n",
        "print(\"enter the first list :\")\n",
        "for i in range(a):\n",
        "    k=int((input()))\n",
        "    l1.append(k)\n",
        "print(\"enter the second list :\")\n",
        "for i in range(b):\n",
        "    k=int((input()))\n",
        "    l2.append(k)\n",
        "pos=0\n",
        "i=0\n",
        "j=0\n",
        "while(pos<a+b):\n",
        "    if(i<a and j<b):\n",
        "        if(l1[i]<l2[j]):\n",
        "            l3.append(l1[i])\n",
        "            pos+=1\n",
        "            i+=1\n",
        "        else:\n",
        "            l3.append(l2[j])\n",
        "            pos+=1\n",
        "            j+=1\n",
        "    elif(i<a):\n",
        "            l3.append(l1[i])\n",
        "            pos+=1\n",
        "            i+=1\n",
        "    elif(j<b):\n",
        "            l3.append(l2[j])\n",
        "            pos+=1\n",
        "            j+=1\n",
        "print(\"lists after merging is :\",l3)"
      ],
      "metadata": {
        "id": "ZFO1yZKLeZNM"
      },
      "execution_count": null,
      "outputs": []
    },
    {
      "cell_type": "markdown",
      "source": [
        "Question 26 :-\n",
        "Implement Binary Search."
      ],
      "metadata": {
        "id": "6CMkVNLiefRo"
      }
    },
    {
      "cell_type": "code",
      "source": [
        "n=int(input(\"enter the length of the array :\"))\n",
        "t=int(input(\"enter the target to be searched :\"))\n",
        "lst=[]\n",
        "print(\"enter the array elemets :\")\n",
        "for i in range(n):\n",
        "    lst.append(int(input()))\n",
        "l=0\n",
        "h=n-1\n",
        "index=-1\n",
        "while(l<=h):\n",
        "    mid=(l+h)//2\n",
        "    if(lst[mid]==t):\n",
        "        index=mid\n",
        "        break\n",
        "    elif(lst[mid]<t):\n",
        "        l=mid+1\n",
        "    else:\n",
        "        h=mid-1\n",
        "if(index==-1):\n",
        "    print(\"elemnt not found!\")\n",
        "else:\n",
        "    print(\"element found at index :\",index)"
      ],
      "metadata": {
        "id": "PczAHDpteexd"
      },
      "execution_count": null,
      "outputs": []
    },
    {
      "cell_type": "markdown",
      "source": [
        "1.Python Program to calculate the square root\n"
      ],
      "metadata": {
        "id": "_VbpSoTOexOQ"
      }
    },
    {
      "cell_type": "code",
      "source": [
        "num = float(input('Enter a number: '))\n",
        "\n",
        "num_sqrt = num ** 0.5\n",
        "print('The square root of %0.3f is %0.3f'%(num ,num_sqrt))"
      ],
      "metadata": {
        "id": "bd8J0tCeewnB"
      },
      "execution_count": null,
      "outputs": []
    },
    {
      "cell_type": "markdown",
      "source": [
        "2. find the smallest divisor of an integer. "
      ],
      "metadata": {
        "id": "WSTS872He1kN"
      }
    },
    {
      "cell_type": "code",
      "source": [
        "n=int(input(\"Enter an integer:\"))\n",
        "a=[]\n",
        "for i in range(2,n+1):\n",
        "    if(n%i==0):\n",
        "        a.append(i)\n",
        "a.sort()\n",
        "print(\"Smallest divisor is:\",a[0])"
      ],
      "metadata": {
        "id": "GZ-lJAvGe01S"
      },
      "execution_count": null,
      "outputs": []
    },
    {
      "cell_type": "markdown",
      "source": [
        "3. Recursive function to return gcd of a and b\n"
      ],
      "metadata": {
        "id": "Z1djJqEge5f2"
      }
    },
    {
      "cell_type": "code",
      "source": [
        "def gcd(a, b):\n",
        "\n",
        "\tif (a == 0):\n",
        "\t\treturn b\n",
        "\tif (b == 0):\n",
        "\t\treturn a\n",
        "\n",
        "\tif (a == b):\n",
        "\t\treturn a\n",
        "\n",
        "\tif (a > b):\n",
        "\t\treturn gcd(a-b, b)\n",
        "\treturn gcd(a, b-a)\n",
        "\n",
        "a = 98\n",
        "b = 56\n",
        "if(gcd(a, b)):\n",
        "\tprint('GCD of', a, 'and', b, 'is', gcd(a, b))\n",
        "else:\n",
        "\tprint('not found')\n"
      ],
      "metadata": {
        "id": "AZiOaVYFe4rp"
      },
      "execution_count": null,
      "outputs": []
    },
    {
      "cell_type": "markdown",
      "source": [
        "4.Generating the Prime Number between the given Interval."
      ],
      "metadata": {
        "id": "vTomfkHwe927"
      }
    },
    {
      "cell_type": "code",
      "source": [
        "lower_value = int(input (\"Please, Enter the Lowest Range Value: \"))  \n",
        "upper_value = int(input (\"Please, Enter the Upper Range Value: \"))  \n",
        "  \n",
        "print (\"The Prime Numbers in the range are: \")  \n",
        "for number in range (lower_value, upper_value + 1):  \n",
        "    if number > 1:  \n",
        "        for i in range (2, number):  \n",
        "            if (number % i) == 0:  \n",
        "                break  \n",
        "        else:  \n",
        "            print (number)  "
      ],
      "metadata": {
        "id": "8A1V2lKbe9a8"
      },
      "execution_count": null,
      "outputs": []
    },
    {
      "cell_type": "markdown",
      "source": [
        "6. Generation of pseudo prime numbers"
      ],
      "metadata": {
        "id": "J--wYJTBfJZj"
      }
    },
    {
      "cell_type": "code",
      "source": [
        "def countPrimesUpto(n):\n",
        "\t\n",
        "\tcount = 0;\n",
        "\n",
        "\tarr1 = [0 for _ in range(n + 1)];\n",
        "\n",
        "\tarr2 = [1 for _ in range(n + 1)];\n",
        "\n",
        "\td = 5;\n",
        "\n",
        "\tarr1[2] = 1\n",
        "\tarr2[2] = 1;\n",
        "\tarr1[3] = 1\n",
        "\tarr2[3] = 1;\n",
        "\n",
        "\twhile (d <= n) :\n",
        "\n",
        "\t\tfor i in range(d, len(arr1), 6):\n",
        "\t\t\tarr1[i] = 1;\n",
        "\t\t\t\n",
        "\t\tfor i in range(d + 2, len(arr1), 6):\n",
        "\t\t\tarr1[i] = 1;\n",
        "\n",
        "\t\td = d + 6;\n",
        "\t\n",
        "\n",
        "\tfor i in range(5, 1 + int(n ** 0.5), 6):\n",
        "\t\tj = 0;\n",
        "\n",
        "\t\twhile (1) :\n",
        "\t\t\tflag = 0;\n",
        "\n",
        "\t\t\ttemp1 = 6 * i * (j + 1) + i;\n",
        "\n",
        "\t\t\ttemp2 = ((6 * i * j) + i * i);\n",
        "\n",
        "\t\t\ttemp3 = ((6 * (i + 2) * j) + ((i + 2) * (i + 2)));\n",
        "\n",
        "\t\t\ttemp4 = ((6 * (i + 2) * (j + 1)) + ((i + 2) * (i + 2)) - 2 * (i + 2));\n",
        "\n",
        "\t\t\tif (temp1 <= n):\n",
        "\t\t\t\tarr2[temp1] = 0;\n",
        "\t\t\t\n",
        "\t\t\telse :\n",
        "\t\t\t\tflag += 1;\n",
        "\t\t\t\n",
        "\n",
        "\t\t\tif (temp2 <= n) :\n",
        "\t\t\t\tarr2[temp2] = 0;\n",
        "\t\t\t\n",
        "\t\t\telse :\n",
        "\t\t\t\tflag += 1;\n",
        "\t\t\t\n",
        "\n",
        "\t\t\tif (temp3 <= n) :\n",
        "\t\t\t\tarr2[temp3] = 0;\n",
        "\t\t\t\n",
        "\t\t\telse :\n",
        "\t\t\t\tflag += 1;\n",
        "\t\n",
        "\t\t\tif (temp4 <= n) :\n",
        "\t\t\t\tarr2[temp4] = 0;\n",
        "\t\t\t\n",
        "\t\t\telse :\n",
        "\t\t\t\tflag += 1;\n",
        "\t\t\t\n",
        "\n",
        "\t\t\tif (flag == 4) :\n",
        "\t\t\t\tbreak;\n",
        "\t\t\t\n",
        "\t\t\tj += 1\n",
        "\t\t\n",
        "\tif (n >= 2):\n",
        "\t\tcount +=1\n",
        "\n",
        "\tif (n >= 3):\n",
        "\t\tcount += 1\n",
        "\n",
        "\tfor p in range(5, n + 1, 6):\n",
        "\t\tif (arr2[p] == 1 and arr1[p] == 1):\n",
        "\t\t\tcount += 1\n",
        "\n",
        "\t\tif arr2[p + 2] == 1 and arr1[p + 2] == 1:\n",
        "\t\t\tcount += 1\n",
        "\t\n",
        "\treturn count;\n",
        "\n",
        "n = 100;\n",
        "print(countPrimesUpto(n));"
      ],
      "metadata": {
        "id": "yzM1Jy5ofILp"
      },
      "execution_count": null,
      "outputs": []
    },
    {
      "cell_type": "markdown",
      "source": [
        "7. Writing power function for large numbers"
      ],
      "metadata": {
        "id": "hb2NCBRpfOvl"
      }
    },
    {
      "cell_type": "code",
      "source": [
        "MAX=100000\n",
        "\n",
        "def multiply(x, res, res_size):\n",
        "\n",
        "\tcarry = 0\n",
        "\n",
        "\tfor i in range(res_size):\n",
        "\t\tprod = res[i] * x + carry\n",
        "\n",
        "\t\tres[i] = prod % 10\n",
        "\n",
        "\t\tcarry = prod // 10\n",
        "\n",
        "\twhile (carry):\n",
        "\t\tres[res_size] = carry % 10\n",
        "\t\tcarry = carry // 10\n",
        "\t\tres_size+=1\n",
        "\n",
        "\treturn res_size\n",
        "\n",
        "\n",
        "def power(x,n):\n",
        "\n",
        "\tif (n == 0) :\n",
        "\t\tprint(\"1\")\n",
        "\t\treturn\n",
        "\t\n",
        "\tres=[0 for i in range(MAX)]\n",
        "\tres_size = 0\n",
        "\ttemp = x\n",
        "\n",
        "\twhile (temp != 0):\n",
        "\t\tres[res_size] = temp % 10;\n",
        "\t\tres_size+=1\n",
        "\t\ttemp = temp // 10\n",
        "\n",
        "\tfor i in range(2, n + 1):\n",
        "\t\tres_size = multiply(x, res, res_size)\n",
        "\n",
        "\tprint(x , \"^\" , n , \" = \",end=\"\")\n",
        "\tfor i in range(res_size - 1, -1, -1):\n",
        "\t\tprint(res[i], end=\"\")\n",
        "\n",
        "exponent = 100\n",
        "base = 2\n",
        "power(base, exponent)\n"
      ],
      "metadata": {
        "id": "8SYmGRnOfN8X"
      },
      "execution_count": null,
      "outputs": []
    },
    {
      "cell_type": "markdown",
      "source": [
        "8. Function for nth Fibonacci number"
      ],
      "metadata": {
        "id": "rweI9uUEfUkY"
      }
    },
    {
      "cell_type": "code",
      "source": [
        "def Fibonacci(n):\n",
        "\tif n<= 0:\n",
        "\t\tprint(\"Incorrect input\")\n",
        "\t\n",
        "\telif n == 1:\n",
        "\t\treturn 0\n",
        "\n",
        "\telif n == 2:\n",
        "\t\treturn 1\n",
        "\telse:\n",
        "\t\treturn Fibonacci(n-1)+Fibonacci(n-2)\n",
        "\n",
        "print(Fibonacci(10))"
      ],
      "metadata": {
        "id": "j1fUjTSlfTa7"
      },
      "execution_count": null,
      "outputs": []
    },
    {
      "cell_type": "markdown",
      "source": [
        "5. computing prime factors of a number python"
      ],
      "metadata": {
        "id": "SlMJS4zafChq"
      }
    },
    {
      "cell_type": "code",
      "source": [
        "n=int(input(\"Enter an integer:\"))\n",
        "print(\"Factors are:\")\n",
        "i=1\n",
        "while(i<=n):\n",
        "    k=0\n",
        "    if(n%i==0):\n",
        "        j=1\n",
        "        while(j<=i):\n",
        "            if(i%j==0):\n",
        "                k=k+1\n",
        "            j=j+1\n",
        "        if(k==2):\n",
        "            print(i)\n",
        "    i=i+1"
      ],
      "metadata": {
        "id": "f8LbnU6OfBrh"
      },
      "execution_count": null,
      "outputs": []
    }
  ]
}